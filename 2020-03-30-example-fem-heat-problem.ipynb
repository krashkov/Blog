{
 "cells": [
  {
   "cell_type": "markdown",
   "metadata": {},
   "source": [
    "# An example of finite element method for 1D heat problem"
   ]
  },
  {
   "cell_type": "markdown",
   "metadata": {},
   "source": [
    "**Contents**\n",
    "\n",
    "* Classical and weak solutions of PDEs\n",
    "* The basics of FEM\n",
    "* Numerical example: 1D heat transfer problem"
   ]
  },
  {
   "cell_type": "markdown",
   "metadata": {},
   "source": [
    "---"
   ]
  },
  {
   "cell_type": "markdown",
   "metadata": {},
   "source": [
    "## 1 Classical and weak solutions of PDEs\n",
    "\n",
    "Let us consider the Poisson's equation on an open bounded domain $\\Omega \\in \\mathbb{R}^n$ with a Dirichlet condition on the boundary $\\partial \\Omega$:\n",
    "\n",
    "$$\n",
    "\\begin{align}\n",
    "- \\Delta u &= f, \\forall x \\in \\Omega\\\\\n",
    "u|_{\\partial \\Omega} &= u_0\n",
    "\\end{align}\n",
    "\\tag{1}\n",
    "$$\n",
    "\n",
    "In general, minimal smoothness solution which satisfies both equations and boundary condition is called a *classical solution*. By definition, a classical solution for Poisson's equation is a function $u(x)\\in C^2(\\Omega) \\cap C(\\partial \\Omega)$, i.e. it is continuous up to the boundary and has continuous second derivatives in $\\Omega$. Also, $f(x)$ is supposed to be continuous as well.\n",
    "\n",
    "However, many PDEs do not admit of sufficiently smooth solutions. Alternative description which allows to relax the assumptions is called a *weak formulation*. To derive a weak formulation let us test the equation against any sufficiently smooth function $\\phi(x)$:\n",
    "\n",
    "$$\n",
    "-\\int_{\\Omega} \\Delta u(x) \\phi(x) dx =\n",
    " \\int_{\\Omega} f(x) \\phi(x) dx\n",
    "$$\n",
    "\n",
    "Applying Green's first identity to the left-hand side of the equation gives the following relation:\n",
    "\n",
    "$$\n",
    "-\\int_{\\partial \\Omega} (\\phi(x) \\nabla u (x), \\vec{n}) dx +\n",
    "\\int_{\\Omega} (\\nabla u(x), \\nabla \\phi(x)) dx =\n",
    "\\int_{\\Omega} f(x) \\phi(x) dx\n",
    "\\tag{2}\n",
    "$$\n",
    "\n",
    "Note that $u(x)$ de facto is not required to have a second derivative. But where to look for the solution and at the same time not be so restrictive? It turns out, that a *Sobolev space* $H^1(\\Omega)$ would be a reasonable answer. Let us introduce the following notation:\n",
    "\n",
    "$$\n",
    "\\begin{align}\n",
    "H^1   &= \\{u \\in H^1(\\Omega)\\ |\\ u|_{\\partial \\Omega} = u_0\\}\\\\\n",
    "H^1_0 &= \\{\\phi \\in H^1(\\Omega)\\ |\\ \\phi|_{\\partial \\Omega} = 0\\}\n",
    "\\end{align}\n",
    "$$\n",
    "\n",
    "As a result, the first term in (2) vanishes, which leads to the weak formulation of the problem.\n",
    "\n",
    "**Weak formulation**. Find $u \\in H^1$ given $f$, such that\n",
    "\n",
    "$$\n",
    "\\int_{\\Omega} (\\nabla u(x), \\nabla \\phi(x)) dx =\n",
    "\\int_{\\Omega} f(x) \\phi(x) dx,\\ \n",
    "\\forall \\phi \\in H^1_0\n",
    "\\tag{3}\n",
    "$$\n",
    "\n",
    "A function $u \\in H^1$ that satisfies (3) is called a *weak solution*. For more information about its properties including existence, uniqueness and relation to a classical solution, please, refer to [1,3]."
   ]
  },
  {
   "cell_type": "markdown",
   "metadata": {},
   "source": [
    "---"
   ]
  },
  {
   "cell_type": "markdown",
   "metadata": {},
   "source": [
    "## 2 The basics of FEM\n"
   ]
  },
  {
   "cell_type": "markdown",
   "metadata": {},
   "source": [
    "### 2.1 Galerkin approximations\n"
   ]
  },
  {
   "cell_type": "markdown",
   "metadata": {},
   "source": [
    "### 2.2 Basis functions\n"
   ]
  },
  {
   "cell_type": "markdown",
   "metadata": {},
   "source": [
    "---"
   ]
  },
  {
   "cell_type": "markdown",
   "metadata": {},
   "source": [
    "## 3 Numerical example: 1D heat transfer problem\n"
   ]
  },
  {
   "cell_type": "markdown",
   "metadata": {},
   "source": [
    "### 3.1 Analytical solution\n"
   ]
  },
  {
   "cell_type": "markdown",
   "metadata": {},
   "source": [
    "### 3.2 Numerical solution with FEM\n"
   ]
  },
  {
   "cell_type": "markdown",
   "metadata": {},
   "source": [
    "---"
   ]
  },
  {
   "cell_type": "markdown",
   "metadata": {},
   "source": [
    "*References*\n",
    "\n",
    "1. A. Larcher and N. Degirmenci. Lecture Notes: The Finite Element Method, KTH Institute of Technology, 2013 [[link](https://www.kth.se/social/upload/5261b9c6f276543474835292/main.pdf)]\n",
    "2. Finite Element Method Course Notes by T. LaForce, Stanford University, 2006 [[link](https://web.stanford.edu/class/energy281/FiniteElementMethod.pdf)]\n",
    "3. P. Arbenz. The Poisson Equation [[link](http://people.inf.ethz.ch/arbenz/FEM17/pdfs/0-19-852868-X.pdf)]"
   ]
  }
 ],
 "metadata": {
  "kernelspec": {
   "display_name": "Python 3",
   "language": "python",
   "name": "python3"
  },
  "language_info": {
   "codemirror_mode": {
    "name": "ipython",
    "version": 3
   },
   "file_extension": ".py",
   "mimetype": "text/x-python",
   "name": "python",
   "nbconvert_exporter": "python",
   "pygments_lexer": "ipython3",
   "version": "3.7.3"
  }
 },
 "nbformat": 4,
 "nbformat_minor": 2
}
