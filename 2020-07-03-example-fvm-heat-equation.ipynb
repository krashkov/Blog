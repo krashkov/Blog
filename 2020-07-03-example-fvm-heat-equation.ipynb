{
 "cells": [
  {
   "cell_type": "markdown",
   "metadata": {},
   "source": [
    "# An example of finite volume method for heat equation in polar coordinates\n",
    "\n",
    "A Jupyter Notebook with source code is located at [this](https://github.com/krashkov/Blog) GitHub repository.\n",
    "\n",
    "**Contents**\n",
    "\n",
    "* The basics of FVM\n",
    "* Numerical example: heat transfer problem in polar coordinates\n",
    "    * Analytical solution\n",
    "    * Numerical solution with FVM"
   ]
  },
  {
   "cell_type": "code",
   "execution_count": 11,
   "metadata": {},
   "outputs": [],
   "source": [
    "import numpy as np\n",
    "\n",
    "import matplotlib.pyplot as plt\n",
    "import matplotlib.colors as colors\n",
    "\n",
    "from scipy.integrate import odeint\n",
    "from scipy.sparse    import diags"
   ]
  },
  {
   "cell_type": "markdown",
   "metadata": {},
   "source": [
    "---"
   ]
  },
  {
   "cell_type": "markdown",
   "metadata": {},
   "source": [
    "## 1 The basics of FVM\n",
    "\n",
    "Finite volume method is a universal tool for constructing *conservative* schemes which are based even on unstructured meshes. Consider the following equation in divergence form:\n",
    "\n",
    "$$\n",
    "\\frac{\\partial u}{\\partial t} + \\frac{\\partial f}{\\partial x_1} + \\frac{\\partial f}{\\partial x_2} = g(u)\n",
    "$$\n",
    "\n",
    "Integrating over arbitrary volume $V$ and applying the Divergence theorem one may obtain integral form of conservation law:\n",
    "\n",
    "$$\n",
    "\\int_V \\frac{\\partial u}{\\partial t} dV + \\int_{\\partial V} (\\mathbf{f}, \\mathbf{n}) dS = \\int_V g(u) dV\n",
    "$$\n",
    "\n",
    "The main idea of FVM is to approximate this conservation law. Suppose that the computational domain $\\Omega$ is divided into elements $V_i$ so that $\\Omega = \\cup_i V_i$. For each cell let us introduce the average value $u_i = \\frac{1}{V_i} \\int_{V_i} udV$. Note that $u_i$ is associated with center of $i$-th cell. Conservation law for each cell can be written as: \n",
    "\n",
    "$$\n",
    "\\frac{\\partial u_i}{\\partial t} + \\frac{1}{V_i} \\int_{\\partial V_i} (\\mathbf{f}, \\mathbf{n}) dS = \\frac{1}{V_i} \\int_{V_i} g(u) dV\n",
    "$$\n",
    "\n",
    "Surface integral is equal to sum of integrals over all $N_i$ faces (edges) of $i$-th cell:\n",
    "\n",
    "$$\n",
    "\\int_{\\partial V_i} (\\mathbf{f}, \\mathbf{n}) dS = \\sum_{i = 1}^{N_i} \\int_{S_{\\alpha}} (\\mathbf{f}, \\mathbf{n}) dS\n",
    "$$\n",
    "\n",
    "In most cases one may suppose that:\n",
    "\n",
    "$$\n",
    "\\begin{aligned}\n",
    "\\frac{1}{V_i}\\int_{V_i} g(u) dV &\\approx g(u_i)\\\\\n",
    "\\int_{S_{\\alpha}} (\\mathbf{f}, \\mathbf{n}) dS &\\approx (\\mathbf{f}_{\\alpha}, \\mathbf{n}_{\\alpha}) S_{\\alpha}\n",
    "\\end{aligned}\n",
    "$$\n",
    "\n",
    "where $S_{\\alpha}$ is a surface area of $\\alpha$-th face (length of $\\alpha$-th edge), $\\mathbf{n}_{\\alpha}$ is an outer-pointing normal vector to $\\alpha$-th face (edge) and $\\mathbf{f}_{\\alpha}$ is associated with center of $\\alpha$-th face (edge). As a result, finite volume scheme takes the following form:\n",
    "\n",
    "$$\n",
    "\\frac{\\partial u_i}{\\partial t} + \\frac{1}{V_i} \\sum_{\\alpha = 1}^{N_i} (\\mathbf{f}_{\\alpha}, \\mathbf{n}_{\\alpha}) S_{\\alpha} = g(u_i)\n",
    "$$\n",
    "\n",
    "It remains to specify the way of discretization of $\\frac{\\partial u_i}{\\partial t}$ and calculation of $\\mathbf{f}_{\\alpha}$ in terms of $u_i$."
   ]
  },
  {
   "cell_type": "markdown",
   "metadata": {},
   "source": [
    "---"
   ]
  },
  {
   "cell_type": "markdown",
   "metadata": {},
   "source": [
    "## 2 Numerical example: heat transfer problem in polar coordinates\n",
    "\n",
    "Consider the following heat equation:\n",
    "\n",
    "$$\n",
    "\\begin{cases}\n",
    "c\\rho\\cfrac{\\partial T}{\\partial t} - \\cfrac{1}{r}\\cfrac{\\partial}{\\partial r}\\left(kr\\cfrac{\\partial T}{\\partial r}\\right)=q,\\ 0<r<a\\\\\n",
    "T(0, r) = T_0(r)\\\\\n",
    "\\cfrac{\\partial T}{\\partial r}(t, 0) = 0\\\\\n",
    "\\left(k\\cfrac{\\partial T}{\\partial r} + \\alpha (T - T_{\\infty}) + \\sigma T^4\\right)(t,a) = 0\n",
    "\\end{cases}\n",
    "\\tag{1}\n",
    "$$"
   ]
  },
  {
   "cell_type": "markdown",
   "metadata": {},
   "source": [
    "### 2.2 Numerical solution with FVM\n",
    "\n"
   ]
  },
  {
   "cell_type": "markdown",
   "metadata": {},
   "source": [
    "---"
   ]
  },
  {
   "cell_type": "markdown",
   "metadata": {},
   "source": [
    "*References*\n",
    "\n",
    "1. K. Gustavsson. Lecture Notes: Numerical Treatment of Differential Equations, KTH Institute of Technology [[link](http://www.csc.kth.se/utbildning/kth/kurser/DN2255/ndiff13/)]"
   ]
  }
 ],
 "metadata": {
  "kernelspec": {
   "display_name": "Python 3",
   "language": "python",
   "name": "python3"
  },
  "language_info": {
   "codemirror_mode": {
    "name": "ipython",
    "version": 3
   },
   "file_extension": ".py",
   "mimetype": "text/x-python",
   "name": "python",
   "nbconvert_exporter": "python",
   "pygments_lexer": "ipython3",
   "version": "3.7.6"
  }
 },
 "nbformat": 4,
 "nbformat_minor": 2
}
