{
 "cells": [
  {
   "cell_type": "markdown",
   "metadata": {},
   "source": [
    "# An example of finite volume method for heat equation in polar coordinates\n",
    "\n",
    "A Jupyter Notebook with source code is located at [this](https://github.com/krashkov/Blog) GitHub repository.\n",
    "\n",
    "**Contents**\n",
    "\n",
    "* The basics of FVM\n",
    "* Numerical example: heat transfer problem in polar coordinates\n",
    "    * Analytical solution\n",
    "    * Numerical solution with FVM"
   ]
  },
  {
   "cell_type": "code",
   "execution_count": 1,
   "metadata": {},
   "outputs": [],
   "source": [
    "import numpy as np\n",
    "\n",
    "import matplotlib.pyplot as plt\n",
    "import matplotlib.colors as colors\n",
    "\n",
    "from scipy.integrate import odeint\n",
    "from scipy.sparse    import diags"
   ]
  },
  {
   "cell_type": "markdown",
   "metadata": {},
   "source": [
    "---"
   ]
  },
  {
   "cell_type": "markdown",
   "metadata": {},
   "source": [
    "## 1 The basics of FVM\n",
    "\n",
    "Finite volume method is a universal tool for constructing *conservative* schemes which are based even on unstructured meshes. Consider the following equation in divergence form:\n",
    "\n",
    "$$\n",
    "\\frac{\\partial u}{\\partial t} + \\frac{\\partial f}{\\partial x_1} + \\frac{\\partial f}{\\partial x_2} = g(u)\n",
    "$$\n",
    "\n",
    "Integrating over arbitrary volume $V$ and applying the Divergence theorem one may obtain integral form of conservation law:\n",
    "\n",
    "$$\n",
    "\\int_V \\frac{\\partial u}{\\partial t} dV + \\int_{\\partial V} (\\mathbf{f}, \\mathbf{n}) dS = \\int_V g(u) dV\n",
    "$$\n",
    "\n",
    "The main idea of FVM is to approximate this conservation law. Suppose that the computational domain $\\Omega$ is divided into elements $V_i$ so that $\\Omega = \\cup_i V_i$. For each cell let us introduce the average value $u_i = \\frac{1}{V_i} \\int_{V_i} udV$. Note that $u_i$ is associated with center of $i$-th cell. Conservation law for each cell can be written as: \n",
    "\n",
    "$$\n",
    "\\frac{\\partial u_i}{\\partial t} + \\frac{1}{V_i} \\int_{\\partial V_i} (\\mathbf{f}, \\mathbf{n}) dS = \\frac{1}{V_i} \\int_{V_i} g(u) dV\n",
    "$$\n",
    "\n",
    "Surface integral is equal to sum of integrals over all $N_i$ faces (edges) of $i$-th cell:\n",
    "\n",
    "$$\n",
    "\\int_{\\partial V_i} (\\mathbf{f}, \\mathbf{n}) dS = \\sum_{i = 1}^{N_i} \\int_{S_{\\alpha}} (\\mathbf{f}, \\mathbf{n}) dS\n",
    "$$\n",
    "\n",
    "In most cases one may suppose that:\n",
    "\n",
    "$$\n",
    "\\begin{aligned}\n",
    "\\frac{1}{V_i}\\int_{V_i} g(u) dV &\\approx g(u_i)\\\\\n",
    "\\int_{S_{\\alpha}} (\\mathbf{f}, \\mathbf{n}) dS &\\approx (\\mathbf{f}_{\\alpha}, \\mathbf{n}_{\\alpha}) S_{\\alpha}\n",
    "\\end{aligned}\n",
    "$$\n",
    "\n",
    "where $S_{\\alpha}$ is a surface area of $\\alpha$-th face (length of $\\alpha$-th edge), $\\mathbf{n}_{\\alpha}$ is an outer-pointing normal vector to $\\alpha$-th face (edge) and $\\mathbf{f}_{\\alpha}$ is associated with center of $\\alpha$-th face (edge). As a result, finite volume scheme takes the following form:\n",
    "\n",
    "$$\n",
    "\\frac{\\partial u_i}{\\partial t} + \\frac{1}{V_i} \\sum_{\\alpha = 1}^{N_i} (\\mathbf{f}_{\\alpha}, \\mathbf{n}_{\\alpha}) S_{\\alpha} = g(u_i)\n",
    "$$\n",
    "\n",
    "It remains to specify the way of discretization of $\\frac{\\partial u_i}{\\partial t}$ and calculation of $\\mathbf{f}_{\\alpha}$ in terms of $u_i$."
   ]
  },
  {
   "cell_type": "markdown",
   "metadata": {},
   "source": [
    "---"
   ]
  },
  {
   "cell_type": "markdown",
   "metadata": {},
   "source": [
    "## 2 Numerical example: heat transfer problem in polar coordinates\n",
    "\n",
    "Suppose we were asked to compute temperature evolution of electrified insulated cable or any other system, where heat source can be represented as a cylinder with $r_1=b$ and thermally conductive material with $r_2=a>b$. Heat loss occurs due to the convection and radiation.\n",
    "\n",
    "This process can be described by the following heat transfer equation in polar coordiantes with axial symmetry:\n",
    "\n",
    "$$\n",
    "\\begin{cases}\n",
    "c\\rho\\cfrac{\\partial T}{\\partial t} - \\cfrac{1}{r}\\cfrac{\\partial}{\\partial r}\\left(kr\\cfrac{\\partial T}{\\partial r}\\right)=q,\\ 0<r<a\\\\\n",
    "T(0, r) = T_0(r)\\\\\n",
    "\\cfrac{\\partial T}{\\partial r}(t, 0) = 0\\\\\n",
    "\\left(k\\cfrac{\\partial T}{\\partial r} + \\alpha (T - T_{\\infty}) + \\sigma T^4\\right)(t,a) = 0\n",
    "\\end{cases}\n",
    "\\tag{1}\n",
    "$$\n",
    "\n",
    "where $T(t, r)$ is temperature as a function of space and time, $c$ heat capacity, $\\rho$ density, $k$ thermal conductivity, $q$ describes heat source, $\\alpha$ heat transfer coefficient, $T_{\\infty}$ the temperature of the environment, i.e. the temperature suitably far from the surface, $\\sigma$ Boltzmann constant."
   ]
  },
  {
   "cell_type": "code",
   "execution_count": 2,
   "metadata": {},
   "outputs": [],
   "source": [
    "# Inner material\n",
    "c1   = 300.\n",
    "rho1 = 11000.\n",
    "k1   = 10.\n",
    "\n",
    "# Outer material\n",
    "c2   = 600.\n",
    "rho2 = 8000.\n",
    "k2   = 40.\n",
    "\n",
    "# Other constants\n",
    "q     = 2.*10**8\n",
    "alpha = 500.\n",
    "sigma = 5.67*10**(-8)\n",
    "T_inf = 293.\n",
    "\n",
    "# Initial temperature\n",
    "T_0   = 700.\n",
    "\n",
    "# Number of cells, radius of outer material and mesh\n",
    "n      = 100\n",
    "a      = 0.01\n",
    "r_mesh = np.linspace(0., a, n)\n",
    "h      = r_mesh[1]\n",
    "\n",
    "# Border of inner material\n",
    "b_idx = 49\n",
    "b     = r_mesh[b_idx]\n",
    "\n",
    "# Time\n",
    "time_max = 40\n",
    "tau      = 0.001"
   ]
  },
  {
   "cell_type": "markdown",
   "metadata": {},
   "source": [
    "### 2.1 Analytical solution\n",
    "\n",
    "Let us rewrite Eq. 1 $\\left(\\frac{\\partial T}{\\partial t} = 0\\right)$ on each domain $r \\in [0, b)$ and $r \\in (b, a]$: \n",
    "\n",
    "$$\n",
    "\\begin{equation*}\n",
    "\\begin{cases}\n",
    "\\cfrac{d^2T_1}{dr^2}+\\cfrac{1}{r}\\cfrac{dT_1}{dr}=-\\cfrac{q}{k_1},\\ 0 < r < b\\\\\n",
    "\\cfrac{dT_1}{dr}(0) = 0\n",
    "\\end{cases}\n",
    "\\qquad\\qquad\n",
    "\\begin{cases}\n",
    "\\cfrac{d^2T_2}{dr^2}+\\cfrac{1}{r}\\cfrac{dT_2}{dr}=0,\\ b < r < a\\\\\n",
    "\\left(k_2\\cfrac{dT_2}{dr} + \\alpha (T_2 - T_{\\infty}) + \\sigma T_2^4\\right)(a) = 0\n",
    "\\end{cases}\n",
    "\\end{equation*}\n",
    "$$\n",
    "\n",
    "The following boundary conditions must hold at $r = b$:\n",
    "\n",
    "$$\n",
    "\\begin{aligned}\n",
    "T_1(b) &= T_2(b)\\\\\n",
    "k_1\\cfrac{dT_1}{dr}(b) &= k_2\\cfrac{dT_2}{dr}(b)\n",
    "\\end{aligned}\n",
    "\\tag{2}\n",
    "$$\n",
    "\n",
    "$\\underline{\\text{Domain 1: } 0\\leq r<b.}$ Directly solving the corresponding ODE one may obtain:\n",
    "\n",
    "$$\n",
    "T_1 = - \\cfrac{q}{4k_1}r^2 + c_1\n",
    "\\tag{3}\n",
    "$$\n",
    "\n",
    "$\\underline{\\text{Domain 2: } b<r\\leq a.}$ Similarly:\n",
    "\n",
    "$$\n",
    "T_2 = c_2\\ln r + c_3\n",
    "\\tag{4}\n",
    "$$\n",
    "\n",
    "$$\n",
    "k_2\\cfrac{c_2}{a} + \\alpha\\left[T_2(a) - T_{\\infty}\\right] + \\sigma [T_2(a)]^4 = 0\n",
    "\\tag{5}\n",
    "$$\n",
    "\n",
    "where $c_3 = T_2(a) - c_2\\ln a$. Boundary conditions (2) allows to find equations for unknown constants $c_i$:\n",
    "\n",
    "$$\n",
    "c_2 = - \\cfrac{qb^2}{2k_2}\n",
    "\\tag{6}\n",
    "$$\n",
    "\n",
    "$$\n",
    "c_1 = c_2\\ln b + c_3 + \\cfrac{qb^2}{4k_1}\n",
    "\\tag{7}\n",
    "$$"
   ]
  },
  {
   "cell_type": "code",
   "execution_count": 3,
   "metadata": {},
   "outputs": [],
   "source": [
    "def exact_solver(k1, k2, q, alpha, sigma, T_inf, n, a, r_mesh, h, b_idx, b):\n",
    "    # Find c2, see Eq. 6\n",
    "    c2 = -q*b**2/(2.*k2)\n",
    "    \n",
    "    # Find T_2(a), see Eq. 5\n",
    "    Ta = np.roots([sigma, 0, 0, alpha, k2*c2/a - alpha*T_inf])\n",
    "    Ta = Ta[[(root.imag == 0. and root.real > 0.) for root in Ta]][0].real\n",
    "    \n",
    "    # Find c3, see Eq. 4\n",
    "    c3 = Ta - c2*np.log(a)\n",
    "    \n",
    "    # Find c1, see Eq. 7\n",
    "    c1 = c2*np.log(b) + c3 + q*b**2/(4*k1)\n",
    "    \n",
    "    # Find T_1 and T_2, see Eq. 3 and 4\n",
    "    T         = np.zeros(len(r_mesh))\n",
    "    T[:b_idx] = -q/(4*k1)*r_mesh[:b_idx]**2 + c1\n",
    "    T[b_idx:] = c2*np.log(r_mesh[b_idx:]) + c3\n",
    "    \n",
    "    return T"
   ]
  },
  {
   "cell_type": "code",
   "execution_count": 4,
   "metadata": {},
   "outputs": [],
   "source": [
    "T_exact = exact_solver(k1, k2, q, alpha, sigma, T_inf, n, a, r_mesh, h, b_idx, b)"
   ]
  },
  {
   "cell_type": "markdown",
   "metadata": {},
   "source": [
    "### 2.2 Numerical solution with FVM\n",
    "\n"
   ]
  },
  {
   "cell_type": "markdown",
   "metadata": {},
   "source": [
    "#### 2.2.1 \n"
   ]
  },
  {
   "cell_type": "markdown",
   "metadata": {},
   "source": [
    "#### 2.2.2\n"
   ]
  },
  {
   "cell_type": "markdown",
   "metadata": {},
   "source": [
    "#### 2.2.3\n"
   ]
  },
  {
   "cell_type": "markdown",
   "metadata": {},
   "source": [
    "---"
   ]
  },
  {
   "cell_type": "markdown",
   "metadata": {},
   "source": [
    "*References*\n",
    "\n",
    "1. K. Gustavsson. Lecture Notes: Numerical Treatment of Differential Equations, KTH Institute of Technology [[link](http://www.csc.kth.se/utbildning/kth/kurser/DN2255/ndiff13/)]"
   ]
  }
 ],
 "metadata": {
  "kernelspec": {
   "display_name": "Python 3",
   "language": "python",
   "name": "python3"
  },
  "language_info": {
   "codemirror_mode": {
    "name": "ipython",
    "version": 3
   },
   "file_extension": ".py",
   "mimetype": "text/x-python",
   "name": "python",
   "nbconvert_exporter": "python",
   "pygments_lexer": "ipython3",
   "version": "3.7.6"
  }
 },
 "nbformat": 4,
 "nbformat_minor": 2
}
